{
 "cells": [
  {
   "cell_type": "code",
   "execution_count": 1,
   "metadata": {},
   "outputs": [],
   "source": [
    "from bs4 import BeautifulSoup"
   ]
  },
  {
   "cell_type": "code",
   "execution_count": 2,
   "metadata": {},
   "outputs": [],
   "source": [
    "import requests\n"
   ]
  },
  {
   "cell_type": "code",
   "execution_count": 3,
   "metadata": {},
   "outputs": [],
   "source": [
    "url=\"https://getpython.wordpress.com/\"\n"
   ]
  },
  {
   "cell_type": "code",
   "execution_count": 4,
   "metadata": {},
   "outputs": [],
   "source": [
    "source=requests.get(url)"
   ]
  },
  {
   "cell_type": "code",
   "execution_count": 5,
   "metadata": {},
   "outputs": [],
   "source": [
    "soup=BeautifulSoup(source.text,'html')"
   ]
  },
  {
   "cell_type": "code",
   "execution_count": 6,
   "metadata": {},
   "outputs": [],
   "source": [
    "title=soup.find('title')"
   ]
  },
  {
   "cell_type": "code",
   "execution_count": 7,
   "metadata": {},
   "outputs": [
    {
     "name": "stdout",
     "output_type": "stream",
     "text": [
      "this is with html tags : <title>Fun with python programming – A programming language for revolution</title>\n"
     ]
    }
   ],
   "source": [
    "print(\"this is with html tags :\",title)"
   ]
  },
  {
   "cell_type": "code",
   "execution_count": 8,
   "metadata": {},
   "outputs": [],
   "source": [
    "qwery=soup.find('h1')"
   ]
  },
  {
   "cell_type": "code",
   "execution_count": 9,
   "metadata": {},
   "outputs": [
    {
     "name": "stdout",
     "output_type": "stream",
     "text": [
      "this is without html tags: Fun with python programming\n"
     ]
    }
   ],
   "source": [
    "print(\"this is without html tags:\",qwery.text) "
   ]
  },
  {
   "cell_type": "code",
   "execution_count": 10,
   "metadata": {},
   "outputs": [],
   "source": [
    "links=soup.find('a')"
   ]
  },
  {
   "cell_type": "code",
   "execution_count": 11,
   "metadata": {},
   "outputs": [
    {
     "name": "stdout",
     "output_type": "stream",
     "text": [
      "<a class=\"screen-reader-text skip-link\" href=\"#content\">Skip to content</a>\n"
     ]
    }
   ],
   "source": [
    "print(links)"
   ]
  },
  {
   "cell_type": "code",
   "execution_count": 12,
   "metadata": {},
   "outputs": [
    {
     "name": "stdout",
     "output_type": "stream",
     "text": [
      "#content\n"
     ]
    }
   ],
   "source": [
    "print(links['href'])"
   ]
  },
  {
   "cell_type": "code",
   "execution_count": 13,
   "metadata": {},
   "outputs": [
    {
     "name": "stdout",
     "output_type": "stream",
     "text": [
      "['screen-reader-text', 'skip-link']\n"
     ]
    }
   ],
   "source": [
    "print(links['class'])"
   ]
  },
  {
   "cell_type": "code",
   "execution_count": 14,
   "metadata": {},
   "outputs": [
    {
     "name": "stdout",
     "output_type": "stream",
     "text": [
      "total links in my website : 84\n",
      "\n",
      "<a class=\"screen-reader-text skip-link\" href=\"#content\">Skip to content</a>\n",
      "<a href=\"https://getpython.wordpress.com/\" rel=\"home\">\n",
      "<div class=\"cover\"></div>\n",
      "</a>\n",
      "<a class=\"screen-reader-text search-toggle\" href=\"#search-container\">Search</a>\n",
      "<a href=\"https://getpython.wordpress.com/\" rel=\"home\">Fun with python programming</a>\n",
      "<a aria-current=\"page\" href=\"/\">Home</a>\n",
      "<a href=\"https://getpython.wordpress.com/contact/\">Contact</a>\n"
     ]
    }
   ],
   "source": [
    "many_link=soup.find_all('a')\n",
    "total_links=len(many_link)\n",
    "print(\"total links in my website :\",total_links)\n",
    "print()\n",
    "for i in many_link[:6]:\n",
    "    print(i)"
   ]
  },
  {
   "cell_type": "code",
   "execution_count": 16,
   "metadata": {},
   "outputs": [
    {
     "name": "stdout",
     "output_type": "stream",
     "text": [
      "<a href=\"https://getpython.wordpress.com/\" rel=\"home\">\n",
      "<div class=\"cover\"></div>\n",
      "</a>\n",
      "\n",
      "href is : https://getpython.wordpress.com/\n"
     ]
    }
   ],
   "source": [
    "second_link=many_link[1]\n",
    "print(second_link)\n",
    "print()\n",
    "print(\"href is :\",second_link['href'])\n"
   ]
  },
  {
   "cell_type": "code",
   "execution_count": 17,
   "metadata": {},
   "outputs": [
    {
     "name": "stdout",
     "output_type": "stream",
     "text": [
      "<div class=\"cover\"></div>\n",
      "\n",
      "['cover']\n",
      "<class 'list'>\n",
      "\n",
      "class name of div is : cover\n"
     ]
    }
   ],
   "source": [
    "nested_div=second_link.find('div')\n",
    "print(nested_div)\n",
    "print()\n",
    "z=(nested_div['class'])\n",
    "print(z)\n",
    "print(type(z))\n",
    "print()\n",
    "print(\"class name of div is :\",\" \".join(nested_div['class']))"
   ]
  },
  {
   "cell_type": "code",
   "execution_count": 18,
   "metadata": {},
   "outputs": [
    {
     "name": "stdout",
     "output_type": "stream",
     "text": [
      "<title>World War II - Wikipedia</title>\n"
     ]
    }
   ],
   "source": [
    "wiki=requests.get(\"https://en.wikipedia.org/wiki/World_War_II\")\n",
    "soup=BeautifulSoup(wiki.text,'html')\n",
    "print(soup.find('title'))"
   ]
  },
  {
   "cell_type": "code",
   "execution_count": 19,
   "metadata": {},
   "outputs": [
    {
     "name": "stdout",
     "output_type": "stream",
     "text": [
      "Contents\n",
      "\n",
      "1 Chronology\n",
      "2 Background\n",
      "\n",
      "2.1 Europe\n",
      "2.2 Asia\n",
      "\n",
      "\n",
      "3 Pre-war events\n",
      "\n",
      "3.1 Italian invasion of Ethiopia (1935)\n",
      "3.2 Spanish Civil War (1936–1939)\n",
      "3.3 Japanese invasion of China (1937)\n",
      "3.4 Soviet–Japanese border conflicts\n",
      "3.5 European occupations and agreements\n",
      "\n",
      "\n",
      "4 Course of the war\n",
      "\n",
      "4.1 War breaks out in Europe (1939–40)\n",
      "4.2 Western Europe (1940–41)\n",
      "4.3 Mediterranean (1940–41)\n",
      "4.4 Axis attack on the Soviet Union (1941)\n",
      "4.5 War breaks out in the Pacific (1941)\n",
      "4.6 Axis advance stalls (1942–43)\n",
      "\n",
      "4.6.1 Pacific (1942–43)\n",
      "4.6.2 Eastern Front (1942–43)\n",
      "4.6.3 Western Europe/Atlantic and Mediterranean (1942–43)\n",
      "\n",
      "\n",
      "4.7 Allies gain momentum (1943–44)\n",
      "4.8 Allies close in (1944)\n",
      "4.9 Axis collapse, Allied victory (1944–45)\n",
      "\n",
      "\n",
      "5 Aftermath\n",
      "6 Impact\n",
      "\n",
      "6.1 Casualties and war crimes\n",
      "6.2 Genocide, concentration camps, and slave labour\n",
      "6.3 Occupation\n",
      "6.4 Home fronts and production\n",
      "6.5 Advances in technology and warfare\n",
      "\n",
      "\n",
      "7 See also\n",
      "8 Notes\n",
      "9 Citations\n",
      "10 References\n",
      "11 External links\n",
      "\n",
      "\n"
     ]
    }
   ],
   "source": [
    "ww2_contents=soup.find_all(\"div\",class_='toc')\n",
    "for i in ww2_contents:\n",
    "    print(i.text)"
   ]
  },
  {
   "cell_type": "code",
   "execution_count": null,
   "metadata": {},
   "outputs": [],
   "source": []
  }
 ],
 "metadata": {
  "kernelspec": {
   "display_name": "Python 3",
   "language": "python",
   "name": "python3"
  },
  "language_info": {
   "codemirror_mode": {
    "name": "ipython",
    "version": 3
   },
   "file_extension": ".py",
   "mimetype": "text/x-python",
   "name": "python",
   "nbconvert_exporter": "python",
   "pygments_lexer": "ipython3",
   "version": "3.8.3"
  }
 },
 "nbformat": 4,
 "nbformat_minor": 4
}
